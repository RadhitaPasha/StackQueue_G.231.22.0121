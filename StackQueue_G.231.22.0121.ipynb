{
  "nbformat": 4,
  "nbformat_minor": 0,
  "metadata": {
    "colab": {
      "provenance": [],
      "authorship_tag": "ABX9TyNmEWFIYOTYhiJqg/ToOtUf",
      "include_colab_link": true
    },
    "kernelspec": {
      "name": "python3",
      "display_name": "Python 3"
    },
    "language_info": {
      "name": "python"
    }
  },
  "cells": [
    {
      "cell_type": "markdown",
      "metadata": {
        "id": "view-in-github",
        "colab_type": "text"
      },
      "source": [
        "<a href=\"https://colab.research.google.com/github/RadhitaPasha/StackQueue_G.231.22.0121/blob/main/StackQueue_G.231.22.0121.ipynb\" target=\"_parent\"><img src=\"https://colab.research.google.com/assets/colab-badge.svg\" alt=\"Open In Colab\"/></a>"
      ]
    },
    {
      "cell_type": "markdown",
      "source": [
        "**Antrian**"
      ],
      "metadata": {
        "id": "Mj2De9dSSFg8"
      }
    },
    {
      "cell_type": "code",
      "execution_count": 1,
      "metadata": {
        "colab": {
          "base_uri": "https://localhost:8080/"
        },
        "id": "cMhtVmwWROH0",
        "outputId": "1d1adccb-c9fb-4d01-ea40-b2471e503ce0"
      },
      "outputs": [
        {
          "output_type": "stream",
          "name": "stdout",
          "text": [
            "deque(['Ram', 'Tarun', 'Asif', 'John'])\n",
            "deque(['Ram', 'Tarun', 'Asif', 'John', 'Akbar'])\n",
            "deque(['Ram', 'Tarun', 'Asif', 'John', 'Akbar', 'Birbal'])\n",
            "Ram\n",
            "Tarun\n",
            "deque(['Asif', 'John', 'Akbar', 'Birbal'])\n"
          ]
        }
      ],
      "source": [
        "from collections import deque\n",
        "queue = deque ([\"Ram\", \"Tarun\", \"Asif\", \"John\"])\n",
        "print (queue)\n",
        "queue.append(\"Akbar\")\n",
        "print (queue)\n",
        "queue.append(\"Birbal\")\n",
        "print (queue)\n",
        "print (queue.popleft())\n",
        "print (queue.popleft())\n",
        "print (queue)\n",
        ""
      ]
    },
    {
      "cell_type": "markdown",
      "source": [
        "**TOWER HANOI**"
      ],
      "metadata": {
        "id": "0eJVa06fS8sx"
      }
    },
    {
      "cell_type": "code",
      "source": [
        "def TowerOfHanoi (n, dr, menuju, bantuan):\n",
        "    if n == 0:\n",
        "        return\n",
        "    TowerOfHanoi (n-1, dari, bantuan, menuju)\n",
        "    print(\"Pindah disk\", n, \"dari\", dr, \"ke\", menuju)\n",
        "    TowerOfHanoi (n-1, bantuan, dr, menuju)\n",
        "\n",
        "# Driver code\n",
        "N = 3\n",
        "\n",
        "# A, C, B are the name of rods TowerOfHanoi(N, 'A', 'C', 'B')\n",
        ""
      ],
      "metadata": {
        "id": "oV2ScPIbTCRH"
      },
      "execution_count": 2,
      "outputs": []
    },
    {
      "cell_type": "markdown",
      "source": [
        "**MENGURUTKAN DALAM SEBUAH STRACK**"
      ],
      "metadata": {
        "id": "KZavCDOOToF6"
      }
    },
    {
      "cell_type": "code",
      "source": [
        "def sortStack (input):\n",
        "    tmpStack = []\n",
        "    while (len (input) > 0):\n",
        "\n",
        "        #pop out the first element\n",
        "        tmp = input [-1]\n",
        "        input.pop()\n",
        "\n",
        "        # while temporary stack is not empty\n",
        "        # and top of stack is smaller than temp\n",
        "        while (len(tmpStack) > 0 and tmpStack[-1] < tmp):\n",
        "\n",
        "            # pop from temporary stack and\n",
        "            # append it to the input stack\n",
        "            input.append(tmpStack[-1])\n",
        "            tmpStack.pop()\n",
        "\n",
        "        # append temp in temporary of stack\n",
        "        tmpStack.append(tmp)\n",
        "\n",
        "    return tmpStack"
      ],
      "metadata": {
        "id": "CRxijiSxTokv"
      },
      "execution_count": 3,
      "outputs": []
    },
    {
      "cell_type": "code",
      "source": [
        "def sortArrayUsingStacks (arr, n):\n",
        "\n",
        "    # append array elements to stack\n",
        "    input = []\n",
        "    i = 0\n",
        "    while (i < n ) :\n",
        "        input.append(arr[i])\n",
        "        i = i + 1\n",
        "\n",
        "    # Sort the temporary stack\n",
        "    tmpStack = sortStack(input)\n",
        "    i = 0\n",
        "\n",
        "    # Put stack elements in arrp[]\n",
        "    while (i < n):\n",
        "        arr[i] = tmpStack [-1]\n",
        "        tmpStack.pop()\n",
        "        i = i + 1\n",
        "\n",
        "    return arr\n",
        "\n",
        "# Driver code\n",
        "arr = [3, 5, 2, 4, 1]\n",
        "n = len(arr)\n",
        "\n",
        "arr = sortArrayUsingStacks (arr, n)\n",
        "i = 0\n",
        "\n",
        "while (i < n):\n",
        "    print (arr[i], end= \" \")\n",
        "    i = i + 1\n",
        "\n"
      ],
      "metadata": {
        "colab": {
          "base_uri": "https://localhost:8080/"
        },
        "id": "YNWH7g77TyYR",
        "outputId": "669b6157-82d7-4f1f-f98c-75d609b587f1"
      },
      "execution_count": 4,
      "outputs": [
        {
          "output_type": "stream",
          "name": "stdout",
          "text": [
            "1 2 3 4 5 "
          ]
        }
      ]
    }
  ]
}